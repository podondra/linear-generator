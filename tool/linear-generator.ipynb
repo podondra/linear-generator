{
 "cells": [
  {
   "cell_type": "code",
   "execution_count": null,
   "metadata": {
    "collapsed": true
   },
   "outputs": [],
   "source": [
    "import matplotlib.pyplot as plt\n",
    "import numpy as np\n",
    "import glob"
   ]
  },
  {
   "cell_type": "code",
   "execution_count": null,
   "metadata": {
    "collapsed": false
   },
   "outputs": [],
   "source": [
    "path = 'linear-generator/tool/opt-bf/'"
   ]
  },
  {
   "cell_type": "code",
   "execution_count": null,
   "metadata": {
    "collapsed": false
   },
   "outputs": [],
   "source": [
    "bf_8 = np.genfromtxt(path + 'bf-8.out')\n",
    "bf_16 = np.genfromtxt(path + 'bf-16.out')\n",
    "bf_32 = np.genfromtxt(path + 'bf-32.out')\n",
    "bf_512 = np.genfromtxt(path + 'bf-512.out')\n",
    "bf_1186 = np.genfromtxt(path + 'bf-1186.out')"
   ]
  },
  {
   "cell_type": "code",
   "execution_count": null,
   "metadata": {
    "collapsed": true
   },
   "outputs": [],
   "source": [
    "def norm(x, y):                                                            \n",
    "    return x / y"
   ]
  },
  {
   "cell_type": "code",
   "execution_count": null,
   "metadata": {
    "collapsed": false
   },
   "outputs": [],
   "source": [
    "def plot_time(x, label):\n",
    "    n = x[:, 0]\n",
    "    plt.plot(n, norm(n, x[:, -1]), '.-', label=label)"
   ]
  },
  {
   "cell_type": "code",
   "execution_count": null,
   "metadata": {
    "collapsed": false
   },
   "outputs": [],
   "source": [
    "plot_time(bf_8, 'BF = 8')\n",
    "plot_time(bf_16, 'BF = 16')\n",
    "plot_time(bf_32, 'BF = 32')\n",
    "plot_time(bf_512, 'BF = 512')\n",
    "plot_time(bf_1186, 'BF = 1186')\n",
    "plt.legend(loc='best')\n",
    "plt.grid()\n",
    "plt.title('casova slozitost - parametr BF')\n",
    "plt.xlabel('n - pocet linearnich generatoru')\n",
    "plt.ylabel('n / t [s ^ -1]')\n",
    "plt.show()"
   ]
  },
  {
   "cell_type": "code",
   "execution_count": null,
   "metadata": {
    "collapsed": true
   },
   "outputs": [],
   "source": [
    "def plot_l1(x, label):\n",
    "    n = x[:, 0]\n",
    "    plt.plot(n, norm(x[:, 1], n), '.-', label=label)"
   ]
  },
  {
   "cell_type": "code",
   "execution_count": null,
   "metadata": {
    "collapsed": false,
    "scrolled": true
   },
   "outputs": [],
   "source": [
    "plot_l1(bf_8, 'BF = 8')\n",
    "plot_l1(bf_16, 'BF = 16')\n",
    "plot_l1(bf_32, 'BF = 32')\n",
    "plot_l1(bf_512, 'BF = 512')\n",
    "#plot_l1(bf_1186, 'BF = 1186')\n",
    "plt.legend(loc='best')\n",
    "plt.grid()\n",
    "plt.title('datove vypadky L1 cache')\n",
    "plt.xlabel('n - pocet linearnich generatoru')\n",
    "plt.ylabel('L1 DCM na linearni generator')\n",
    "plt.show()"
   ]
  },
  {
   "cell_type": "code",
   "execution_count": null,
   "metadata": {
    "collapsed": true
   },
   "outputs": [],
   "source": [
    "def plot_l2(x, label):\n",
    "    plt.plot(x[:, 0], norm(x[:, 2], x[:, 3]), '.-', label=label)"
   ]
  },
  {
   "cell_type": "code",
   "execution_count": null,
   "metadata": {
    "collapsed": false
   },
   "outputs": [],
   "source": [
    "plot_l2(bf_8, 'BF = 8')\n",
    "plot_l2(bf_16, 'BF = 16')\n",
    "plot_l2(bf_32, 'BF = 32')\n",
    "plot_l2(bf_512, 'BF = 512')\n",
    "plot_l2(bf_1186, 'BF = 1186')\n",
    "plt.legend(loc='best')\n",
    "plt.grid()\n",
    "plt.title('datove vypadky L2 cache')\n",
    "plt.xlabel('n - pocet linearnich generatoru')\n",
    "plt.ylabel('L2 cache miss rate')\n",
    "\n",
    "plt.show()"
   ]
  },
  {
   "cell_type": "code",
   "execution_count": null,
   "metadata": {
    "collapsed": true
   },
   "outputs": [],
   "source": [
    "def plot_l3(x, label):\n",
    "    n = x[:, 0]\n",
    "    plt.plot(n, norm(x[:, 4], n), '.-', label=label)"
   ]
  },
  {
   "cell_type": "code",
   "execution_count": null,
   "metadata": {
    "collapsed": false
   },
   "outputs": [],
   "source": [
    "plot_l3(bf_8, 'BF = 8')\n",
    "plot_l3(bf_16, 'BF = 16')\n",
    "plot_l3(bf_32, 'BF = 32')\n",
    "plot_l3(bf_512, 'BF = 512')\n",
    "plot_l3(bf_1186, 'BF = 1186')\n",
    "plt.legend(loc='best')\n",
    "plt.grid()\n",
    "plt.title('datove vypadky L3 cache')\n",
    "plt.xlabel('n - pocet linearnich generatoru')\n",
    "plt.ylabel('L3 DCM na linearni generator')\n",
    "\n",
    "plt.show()"
   ]
  },
  {
   "cell_type": "code",
   "execution_count": null,
   "metadata": {
    "collapsed": false
   },
   "outputs": [],
   "source": [
    "%ls linear-generator/tool/par/"
   ]
  },
  {
   "cell_type": "code",
   "execution_count": null,
   "metadata": {
    "collapsed": true
   },
   "outputs": [],
   "source": [
    "path = 'linear-generator/tool/par/'"
   ]
  },
  {
   "cell_type": "code",
   "execution_count": null,
   "metadata": {
    "collapsed": true
   },
   "outputs": [],
   "source": [
    "th_4 = np.genfromtxt(path + 'th-4.out')\n",
    "th_8 = np.genfromtxt(path + 'th-8.out')\n",
    "th_12 = np.genfromtxt(path + 'th-12.out')\n",
    "th_16 = np.genfromtxt(path + 'th-16.out')\n",
    "th_20 = np.genfromtxt(path + 'th-20.out')\n",
    "th_24 = np.genfromtxt(path + 'th-24.out')\n",
    "th_28 = np.genfromtxt(path + 'th-28.out')"
   ]
  },
  {
   "cell_type": "code",
   "execution_count": null,
   "metadata": {
    "collapsed": false
   },
   "outputs": [],
   "source": [
    "plot_time(th_4, '4 vlakna')\n",
    "plot_time(th_8, '8 vlaken')\n",
    "plot_time(th_12, '12 vlaken')\n",
    "plot_time(th_16, '16 vlaken')\n",
    "plot_time(th_20, '20 vlaken')\n",
    "plot_time(th_24, '24 vlaken')\n",
    "plot_time(th_28, '28 vlaken')\n",
    "plt.legend(loc='best')\n",
    "plt.grid()\n",
    "plt.title('casova slozitost - paralelni implementace')\n",
    "plt.xlabel('n - pocet linearnich generatoru')\n",
    "plt.ylabel('n / t [s ^ -1]')\n",
    "\n",
    "plt.show()"
   ]
  },
  {
   "cell_type": "code",
   "execution_count": null,
   "metadata": {
    "collapsed": false
   },
   "outputs": [],
   "source": [
    "plot_time(th_24, '24 vlaken')\n",
    "plot_time(bf_16, 'BF = 16')\n",
    "plt.legend(loc='best')\n",
    "plt.grid()\n",
    "plt.title('paralelni versus sekvencni implementace')\n",
    "plt.xlabel('n - pocet linearnich generatoru')\n",
    "plt.ylabel('n / t [s ^ -1]')\n",
    "plt.show()"
   ]
  }
 ],
 "metadata": {
  "kernelspec": {
   "display_name": "Python 3",
   "language": "python",
   "name": "python3"
  },
  "language_info": {
   "codemirror_mode": {
    "name": "ipython",
    "version": 3
   },
   "file_extension": ".py",
   "mimetype": "text/x-python",
   "name": "python",
   "nbconvert_exporter": "python",
   "pygments_lexer": "ipython3",
   "version": "3.5.2+"
  }
 },
 "nbformat": 4,
 "nbformat_minor": 2
}
